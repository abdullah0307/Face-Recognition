{
 "cells": [
  {
   "cell_type": "code",
   "execution_count": 5,
   "metadata": {},
   "outputs": [
    {
     "name": "stdin",
     "output_type": "stream",
     "text": [
      "Enter name steve job\n",
      "1:Images from camera\n",
      "2:images from gallery\n",
      " 2\n"
     ]
    },
    {
     "name": "stdout",
     "output_type": "stream",
     "text": [
      "0\n",
      "1\n"
     ]
    }
   ],
   "source": [
    "# data collection\n",
    "import cv2\n",
    "import os,sys\n",
    "import numpy as np\n",
    "import csv\n",
    "\n",
    "name = input(\"Enter name\")\n",
    "choice  = input(\"1:Images from camera\\n2:images from gallery\\n\")\n",
    "detector = cv2.CascadeClassifier(\"haarcascade_frontalface_default.xml\")\n",
    "\n",
    "Id = 0\n",
    "\n",
    "if os.path.exists(\"SubjectDetails.csv\"):\n",
    "    num_rows= 0\n",
    "    for row in open(\"SubjectDetails.csv\"):\n",
    "        print(num_rows)\n",
    "        num_rows += 1\n",
    "    Id = num_rows\n",
    "else:\n",
    "    Id = \"1\"\n",
    "    \n",
    "if choice == \"1\":\n",
    "    # body to get images from camera\n",
    "    camera = cv2.VideoCapture(0)\n",
    "    sample_num = 0\n",
    "    while True:\n",
    "        ret,frame = camera.read()\n",
    "        gray = cv2.cvtColor(frame,cv2.COLOR_BGR2GRAY)\n",
    "        faces = detector.detectMultiScale(gray,1.2,5)\n",
    "        if faces is not ():\n",
    "            for (x,y,w,h) in faces:\n",
    "                cv2.rectangle(frame,(x,y),(x+w,y+h),(0,255,0),1)\n",
    "                cv2.putText(frame,str(sample_num),(10,90),cv2.FONT_HERSHEY_SIMPLEX,1,(0,255,0),1)\n",
    "                sample_num += 1\n",
    "                cv2.imwrite(\"subject_images/\"+name +\".\"+str(Id) +'.'+str(sample_num) + \".jpg\",gray[y:y+h,x:x+w])\n",
    "        cv2.imshow(\"frame\",frame)\n",
    "        if cv2.waitKey(100) & 0xFF == 27:\n",
    "            break\n",
    "    camera.release()\n",
    "    cv2.destroyAllWindows()\n",
    "    \n",
    "elif choice == \"2\":\n",
    "    path = \"steve jobs/\"\n",
    "    images_paths = [os.path.join(path,f) for f in os.listdir(path)]\n",
    "    sample_num = 0\n",
    "    for image in images_paths:\n",
    "        image = cv2.imread(image)\n",
    "        gray = cv2.cvtColor(image,cv2.COLOR_BGR2GRAY)\n",
    "        faces = detector.detectMultiScale(gray,1.2,5)\n",
    "        if faces is not ():\n",
    "            for (x,y,w,h) in faces:\n",
    "                sample_num += 1\n",
    "                cv2.imwrite(\"subject_images/\"+name +\".\"+str(Id) +'.'+str(sample_num) + \".jpg\",gray[y:y+h,x:x+w])        \n",
    "else:\n",
    "    print(\"invalid value\")\n",
    "    \n",
    "row = [name,Id]  \n",
    "if os.path.exists(\"SubjectDetails.csv\"):\n",
    "    with open(\"SubjectDetails.csv\",'a+',newline = '') as csvfile:\n",
    "        writer = csv.writer(csvfile)\n",
    "        writer.writerow(row)\n",
    "        csvfile.close()\n",
    "else:\n",
    "    with open(\"SubjectDetails.csv\",'w',newline = '') as csvfile:\n",
    "        writer = csv.writer(csvfile)\n",
    "        writer.writerow(['name','Id'])\n",
    "        writer.writerow(row)\n",
    "        csvfile.close()"
   ]
  },
  {
   "cell_type": "code",
   "execution_count": null,
   "metadata": {},
   "outputs": [],
   "source": []
  }
 ],
 "metadata": {
  "kernelspec": {
   "display_name": "Python 3",
   "language": "python",
   "name": "python3"
  },
  "language_info": {
   "codemirror_mode": {
    "name": "ipython",
    "version": 3
   },
   "file_extension": ".py",
   "mimetype": "text/x-python",
   "name": "python",
   "nbconvert_exporter": "python",
   "pygments_lexer": "ipython3",
   "version": "3.6.6"
  }
 },
 "nbformat": 4,
 "nbformat_minor": 2
}
